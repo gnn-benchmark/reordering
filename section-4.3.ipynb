{
 "cells": [
  {
   "cell_type": "code",
   "execution_count": 1,
   "metadata": {},
   "outputs": [],
   "source": [
    "import pandas as pd"
   ]
  },
  {
   "cell_type": "code",
   "execution_count": 2,
   "metadata": {},
   "outputs": [],
   "source": [
    "training_times = pd.read_csv(\"logs/sec-4.3.csv\")\n",
    "training_times_mean_degree = training_times[training_times.graph_type.isin([\"rmat\", \"barabasi\"])]\n",
    "training_times_clustering = training_times[training_times.graph_type.isin([\"watts\"])]"
   ]
  },
  {
   "cell_type": "markdown",
   "metadata": {},
   "source": [
    "clustering coefficient"
   ]
  },
  {
   "cell_type": "code",
   "execution_count": 9,
   "metadata": {},
   "outputs": [
    {
     "data": {
      "text/html": [
       "<div>\n",
       "<style scoped>\n",
       "    .dataframe tbody tr th:only-of-type {\n",
       "        vertical-align: middle;\n",
       "    }\n",
       "\n",
       "    .dataframe tbody tr th {\n",
       "        vertical-align: top;\n",
       "    }\n",
       "\n",
       "    .dataframe thead th {\n",
       "        text-align: right;\n",
       "    }\n",
       "</style>\n",
       "<table border=\"1\" class=\"dataframe\">\n",
       "  <thead>\n",
       "    <tr style=\"text-align: right;\">\n",
       "      <th></th>\n",
       "      <th>graph_type</th>\n",
       "      <th>system</th>\n",
       "      <th>infrastructure</th>\n",
       "      <th>pearson</th>\n",
       "      <th>spearman</th>\n",
       "    </tr>\n",
       "  </thead>\n",
       "  <tbody>\n",
       "    <tr>\n",
       "      <th>0</th>\n",
       "      <td>watts</td>\n",
       "      <td>dgl</td>\n",
       "      <td>cpu</td>\n",
       "      <td>0.94</td>\n",
       "      <td>0.93</td>\n",
       "    </tr>\n",
       "    <tr>\n",
       "      <th>1</th>\n",
       "      <td>watts</td>\n",
       "      <td>dgl</td>\n",
       "      <td>cuda</td>\n",
       "      <td>0.91</td>\n",
       "      <td>0.91</td>\n",
       "    </tr>\n",
       "    <tr>\n",
       "      <th>2</th>\n",
       "      <td>watts</td>\n",
       "      <td>pyg</td>\n",
       "      <td>cpu</td>\n",
       "      <td>0.94</td>\n",
       "      <td>0.93</td>\n",
       "    </tr>\n",
       "    <tr>\n",
       "      <th>3</th>\n",
       "      <td>watts</td>\n",
       "      <td>pyg</td>\n",
       "      <td>cuda</td>\n",
       "      <td>0.99</td>\n",
       "      <td>1.00</td>\n",
       "    </tr>\n",
       "  </tbody>\n",
       "</table>\n",
       "</div>"
      ],
      "text/plain": [
       "  graph_type system infrastructure  pearson  spearman\n",
       "0      watts    dgl            cpu     0.94      0.93\n",
       "1      watts    dgl           cuda     0.91      0.91\n",
       "2      watts    pyg            cpu     0.94      0.93\n",
       "3      watts    pyg           cuda     0.99      1.00"
      ]
     },
     "execution_count": 9,
     "metadata": {},
     "output_type": "execute_result"
    }
   ],
   "source": [
    "from scipy.stats import spearmanr\n",
    "rows = []\n",
    "\n",
    "r = training_times_clustering.copy()\n",
    "\n",
    "for i, d in r.groupby(by=[\"graph_type\", \"infrastructure\", \"system\", \"reordering_strategy\"]):\n",
    "    clustering_values = d[\"Clustering\"].to_numpy()\n",
    "    speedup_values =d['speedup'].to_numpy()\n",
    "    pearson_corr = d[\"Clustering\"].corr(d['speedup'])\n",
    "    coef, _ = spearmanr(d[\"Clustering\"], d['speedup'])\n",
    "    rows.append({\n",
    "        \"pearson\": pearson_corr, \n",
    "        \"spearman\": coef,\n",
    "        \"metric\": \"Clustering\",\n",
    "        \"graph_type\": i[0],\n",
    "        \"system\": i[2],\n",
    "        \"reordering_strategy\": i[3],\n",
    "        \"infrastructure\": i[1]\n",
    "    })\n",
    "        \n",
    "training_times_clustering_correlation = pd.DataFrame(rows)\n",
    "training_times_clustering_correlation['pearson'] = training_times_clustering_correlation['pearson'].round(2)\n",
    "training_times_clustering_correlation['spearman'] = training_times_clustering_correlation['spearman'].round(2)\n",
    "training_times_clustering_correlation[[\"graph_type\",\"system\", \"infrastructure\", \"pearson\", \"spearman\"]].groupby(by=[\"graph_type\",\"system\", \"infrastructure\"], as_index=False).mean().round(2)"
   ]
  },
  {
   "cell_type": "markdown",
   "metadata": {},
   "source": [
    "mean degree"
   ]
  },
  {
   "cell_type": "code",
   "execution_count": 12,
   "metadata": {},
   "outputs": [
    {
     "data": {
      "text/html": [
       "<div>\n",
       "<style scoped>\n",
       "    .dataframe tbody tr th:only-of-type {\n",
       "        vertical-align: middle;\n",
       "    }\n",
       "\n",
       "    .dataframe tbody tr th {\n",
       "        vertical-align: top;\n",
       "    }\n",
       "\n",
       "    .dataframe thead th {\n",
       "        text-align: right;\n",
       "    }\n",
       "</style>\n",
       "<table border=\"1\" class=\"dataframe\">\n",
       "  <thead>\n",
       "    <tr style=\"text-align: right;\">\n",
       "      <th></th>\n",
       "      <th>graph_type</th>\n",
       "      <th>pearson</th>\n",
       "      <th>spearman</th>\n",
       "    </tr>\n",
       "  </thead>\n",
       "  <tbody>\n",
       "    <tr>\n",
       "      <th>0</th>\n",
       "      <td>barabasi</td>\n",
       "      <td>-0.20</td>\n",
       "      <td>-0.22</td>\n",
       "    </tr>\n",
       "    <tr>\n",
       "      <th>1</th>\n",
       "      <td>rmat</td>\n",
       "      <td>0.07</td>\n",
       "      <td>0.06</td>\n",
       "    </tr>\n",
       "  </tbody>\n",
       "</table>\n",
       "</div>"
      ],
      "text/plain": [
       "  graph_type  pearson  spearman\n",
       "0   barabasi    -0.20     -0.22\n",
       "1       rmat     0.07      0.06"
      ]
     },
     "execution_count": 12,
     "metadata": {},
     "output_type": "execute_result"
    }
   ],
   "source": [
    "from scipy.stats import spearmanr\n",
    "rows = []\n",
    "\n",
    "r = training_times_mean_degree.copy()\n",
    "for i, d in r.groupby(by=[\"graph_type\", \"infrastructure\", \"system\", \"reordering_strategy\"]):\n",
    "    clustering_values = d[\"MeanDegree\"].to_numpy()\n",
    "    speedup_values =d['speedup'].to_numpy()\n",
    "    pearson_corr = d[\"MeanDegree\"].corr(d['speedup'])\n",
    "    coef, _ = spearmanr(d[\"MeanDegree\"], d['speedup'])\n",
    "    rows.append({\n",
    "        \"pearson\": pearson_corr, \n",
    "        \"spearman\": coef,\n",
    "        \"metric\": \"MeanDegree\",\n",
    "        \"graph_type\": i[0],\n",
    "        \"system\": i[2],\n",
    "        \"reordering_strategy\": i[3],\n",
    "        \"infrastructure\": i[1]\n",
    "    })\n",
    "training_times_mean_degree_correlation = pd.DataFrame(rows)\n",
    "training_times_mean_degree_correlation['pearson'] = training_times_mean_degree_correlation['pearson'].round(2)\n",
    "training_times_mean_degree_correlation['spearman'] = training_times_mean_degree_correlation['spearman'].round(2)\n",
    "training_times_mean_degree_correlation[[\"graph_type\", \"pearson\", \"spearman\"]].groupby(by=[\"graph_type\"], as_index=False).mean().round(2)"
   ]
  },
  {
   "cell_type": "code",
   "execution_count": null,
   "metadata": {},
   "outputs": [],
   "source": []
  }
 ],
 "metadata": {
  "kernelspec": {
   "display_name": "env",
   "language": "python",
   "name": "python3"
  },
  "language_info": {
   "codemirror_mode": {
    "name": "ipython",
    "version": 3
   },
   "file_extension": ".py",
   "mimetype": "text/x-python",
   "name": "python",
   "nbconvert_exporter": "python",
   "pygments_lexer": "ipython3",
   "version": "3.9.6"
  }
 },
 "nbformat": 4,
 "nbformat_minor": 2
}
